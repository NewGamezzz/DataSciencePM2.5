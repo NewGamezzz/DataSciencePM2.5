{
 "cells": [
  {
   "cell_type": "code",
   "execution_count": 51,
   "metadata": {},
   "outputs": [],
   "source": [
    "import os\n",
    "import math\n",
    "import numpy as np\n",
    "import pandas as pd\n",
    "from tqdm import tqdm\n",
    "from sklearn.metrics import mean_squared_error"
   ]
  },
  {
   "cell_type": "code",
   "execution_count": 441,
   "metadata": {},
   "outputs": [],
   "source": [
    "basepath = 'datasci_dataset_2022'\n",
    "province = ['BKK', 'Chiangmai', 'Rayong', 'Saraburi', 'Khonkaen', 'Surat']\n",
    "idx_province = 5\n",
    "folderpath = os.path.join(basepath, province[idx_province])\n",
    "\n",
    "predicted_path = f'predict/{province[idx_province].lower()}_predict_test.csv'\n",
    "gt_path = os.path.join(folderpath, f\"test\\\\{province[idx_province].lower()}_test.csv\")"
   ]
  },
  {
   "cell_type": "markdown",
   "metadata": {},
   "source": [
    "# Post Processing"
   ]
  },
  {
   "cell_type": "code",
   "execution_count": 442,
   "metadata": {},
   "outputs": [
    {
     "name": "stdout",
     "output_type": "stream",
     "text": [
      "Prediction PATH: predict/surat_predict_test.csv\n"
     ]
    }
   ],
   "source": [
    "rename_encode = {\"Unnamed: 0\": \"Time\", \"Unnamed: 1\": \"Predicted\", \"predicted_mean\": \"PM2.5\"}\n",
    "predicted_df = pd.read_csv(predicted_path).rename(rename_encode, axis=1)\n",
    "print(\"Prediction PATH:\", predicted_path)"
   ]
  },
  {
   "cell_type": "code",
   "execution_count": 443,
   "metadata": {},
   "outputs": [],
   "source": [
    "li = []\n",
    "for i in range(0, predicted_df.shape[0], 12):\n",
    "  li.append(predicted_df.iloc[i:i+12].rolling(window=25, min_periods=2, center=True, closed='both').mean())"
   ]
  },
  {
   "cell_type": "code",
   "execution_count": 444,
   "metadata": {},
   "outputs": [],
   "source": [
    "predicted_df['PM2.5'] = pd.concat(li)"
   ]
  },
  {
   "cell_type": "code",
   "execution_count": 445,
   "metadata": {},
   "outputs": [],
   "source": [
    "predicted_df.to_csv(f'predict/smooth/{province[idx_province].lower()}_predict_test.csv', index=False)"
   ]
  },
  {
   "cell_type": "markdown",
   "metadata": {},
   "source": [
    "# Create Submission & Evaluate"
   ]
  },
  {
   "cell_type": "code",
   "execution_count": 446,
   "metadata": {},
   "outputs": [],
   "source": [
    "def get_predicted_gt(predicted_path, gt_path):\n",
    "  rename_encode = {\"Unnamed: 0\": \"Time\", \"Unnamed: 1\": \"Predicted\", \"predicted_mean\": \"PM2.5\"}\n",
    "  predicted_df = pd.read_csv(predicted_path).rename(rename_encode, axis=1)\n",
    "  print(f\"Predicted Data: {predicted_path}\")\n",
    "\n",
    "\n",
    "  testPM = pd.read_csv(gt_path).rename({\"Unnamed: 0\": \"date_time\"}, axis=1)\n",
    "  testPM['date_time'] = pd.to_datetime(testPM['date_time'])\n",
    "  testPM = testPM.set_index('date_time')\n",
    "  print(f\"Ground truth: {gt_path}\")\n",
    "\n",
    "  gt = []\n",
    "  for _, data in predicted_df.iterrows():\n",
    "    try:\n",
    "      gt.append(testPM.loc[data[1]].values[0])\n",
    "    except:\n",
    "      gt.append(np.NaN)\n",
    "  gt = np.array(gt)\n",
    "\n",
    "  mask = np.isnan(gt)\n",
    "  predicted = predicted_df['PM2.5'].values[~mask]\n",
    "  gt_target = gt[~mask]\n",
    "\n",
    "  return predicted, gt_target"
   ]
  },
  {
   "cell_type": "code",
   "execution_count": 447,
   "metadata": {},
   "outputs": [
    {
     "name": "stdout",
     "output_type": "stream",
     "text": [
      "Predicted Data: predict/smooth/bkk_predict_test.csv\n",
      "Ground truth: datasci_dataset_2022\\BKK\\test\\bkk_test.csv\n",
      "BKK\n",
      "Test on SARIMAX with RMSE: 6.416884\n",
      "\n",
      "Predicted Data: predict/smooth/chiangmai_predict_test.csv\n",
      "Ground truth: datasci_dataset_2022\\Chiangmai\\test\\chiangmai_test.csv\n",
      "Chiangmai\n",
      "Test on SARIMAX with RMSE: 10.240516\n",
      "\n",
      "Predicted Data: predict/smooth/rayong_predict_test.csv\n",
      "Ground truth: datasci_dataset_2022\\Rayong\\test\\rayong_test.csv\n",
      "Rayong\n",
      "Test on SARIMAX with RMSE: 8.308127\n",
      "\n",
      "Predicted Data: predict/smooth/saraburi_predict_test.csv\n",
      "Ground truth: datasci_dataset_2022\\Saraburi\\test\\saraburi_test.csv\n",
      "Saraburi\n",
      "Test on SARIMAX with RMSE: 11.540631\n",
      "\n",
      "Predicted Data: predict/smooth/khonkaen_predict_test.csv\n",
      "Ground truth: datasci_dataset_2022\\Khonkaen\\test\\khonkaen_test.csv\n",
      "Khonkaen\n",
      "Test on SARIMAX with RMSE: 11.108259\n",
      "\n",
      "Predicted Data: predict/smooth/surat_predict_test.csv\n",
      "Ground truth: datasci_dataset_2022\\Surat\\test\\surat_test.csv\n",
      "Surat\n",
      "Test on SARIMAX with RMSE: 5.928553\n",
      "\n"
     ]
    }
   ],
   "source": [
    "li_predicted, li_gt_target = [], []\n",
    "for idx_province in range(6):\n",
    "  folderpath = os.path.join(basepath, province[idx_province])\n",
    "  predicted_path = f'predict/smooth/{province[idx_province].lower()}_predict_test.csv'\n",
    "  gt_path = os.path.join(folderpath, f\"test\\\\{province[idx_province].lower()}_test.csv\")\n",
    "  predicted, gt_target = get_predicted_gt(predicted_path, gt_path)\n",
    "  li_predicted.append(predicted)\n",
    "  li_gt_target.append(gt_target)\n",
    "  print(province[idx_province])\n",
    "  mse = mean_squared_error(gt_target, predicted)\n",
    "  rmse = math.sqrt(mse)\n",
    "  print('Test on SARIMAX with RMSE: %f' % (rmse, ))\n",
    "  print()\n",
    "\n",
    "predicted = np.concatenate(li_predicted)\n",
    "gt_target = np.concatenate(li_gt_target)"
   ]
  },
  {
   "cell_type": "code",
   "execution_count": 448,
   "metadata": {},
   "outputs": [
    {
     "name": "stdout",
     "output_type": "stream",
     "text": [
      "Test on SARIMAX with RMSE: 9.174101\n"
     ]
    }
   ],
   "source": [
    "mse = mean_squared_error(gt_target, predicted)\n",
    "rmse = math.sqrt(mse)\n",
    "print('Test on SARIMAX with RMSE: %f' % (rmse, ))"
   ]
  },
  {
   "cell_type": "code",
   "execution_count": 346,
   "metadata": {},
   "outputs": [
    {
     "data": {
      "text/plain": [
       "(94248,)"
      ]
     },
     "execution_count": 346,
     "metadata": {},
     "output_type": "execute_result"
    }
   ],
   "source": [
    "predicted.shape"
   ]
  },
  {
   "cell_type": "code",
   "execution_count": 347,
   "metadata": {},
   "outputs": [],
   "source": [
    "data = {\"Predicted\": predicted}\n",
    "submission_df = pd.DataFrame(data)"
   ]
  },
  {
   "cell_type": "code",
   "execution_count": 348,
   "metadata": {},
   "outputs": [],
   "source": [
    "submission_df.reset_index().rename({'index': 'id'}, axis=1).to_csv('submissionSmooth13.csv', index=False)"
   ]
  },
  {
   "cell_type": "code",
   "execution_count": null,
   "metadata": {},
   "outputs": [],
   "source": []
  }
 ],
 "metadata": {
  "interpreter": {
   "hash": "0bb4b9b1b0953d246fa263114367ef73d78897a5fec9308a482733529b7b4aac"
  },
  "kernelspec": {
   "display_name": "Python 3.7.11 ('work')",
   "language": "python",
   "name": "python3"
  },
  "language_info": {
   "codemirror_mode": {
    "name": "ipython",
    "version": 3
   },
   "file_extension": ".py",
   "mimetype": "text/x-python",
   "name": "python",
   "nbconvert_exporter": "python",
   "pygments_lexer": "ipython3",
   "version": "3.7.11"
  },
  "orig_nbformat": 4
 },
 "nbformat": 4,
 "nbformat_minor": 2
}
