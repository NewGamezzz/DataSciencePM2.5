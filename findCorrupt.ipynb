{
 "cells": [
  {
   "cell_type": "code",
   "execution_count": 1,
   "metadata": {},
   "outputs": [],
   "source": [
    "import os\n",
    "import re\n",
    "import pickle\n",
    "import numpy as np\n",
    "import pandas as pd"
   ]
  },
  {
   "cell_type": "markdown",
   "metadata": {},
   "source": [
    "# Temperature"
   ]
  },
  {
   "cell_type": "code",
   "execution_count": 111,
   "metadata": {},
   "outputs": [],
   "source": [
    "basepath = 'temp_test'\n",
    "savepath = 'datasci_dataset_2022'\n",
    "\n",
    "location = [\"BKK\", \"Chiangmai\", \"Khonkaen\", \"Rayong\", \"Saraburi\", \"Surat\"]"
   ]
  },
  {
   "cell_type": "code",
   "execution_count": 112,
   "metadata": {},
   "outputs": [
    {
     "name": "stdout",
     "output_type": "stream",
     "text": [
      "Location: BKK\n",
      "(5835, 1)\n",
      "\n",
      "datasci_dataset_2022\\BKK\\test\n",
      "Location: Chiangmai\n",
      "(5835, 1)\n",
      "\n",
      "datasci_dataset_2022\\Chiangmai\\test\n",
      "Location: Khonkaen\n",
      "(5835, 1)\n",
      "\n",
      "datasci_dataset_2022\\Khonkaen\\test\n",
      "Location: Rayong\n",
      "(5835, 1)\n",
      "\n",
      "datasci_dataset_2022\\Rayong\\test\n",
      "Location: Saraburi\n",
      "(5835, 1)\n",
      "\n",
      "datasci_dataset_2022\\Saraburi\\test\n",
      "Location: Surat\n",
      "(5835, 1)\n",
      "\n",
      "datasci_dataset_2022\\Surat\\test\n"
     ]
    }
   ],
   "source": [
    "corrupt_temp = []\n",
    "for loc in location:\n",
    "  loc_path = os.path.join(basepath, loc)\n",
    "  output_path = os.path.join(savepath, loc)\n",
    "  output_path = os.path.join(output_path, 'test')\n",
    "  \n",
    "  li = []\n",
    "  for f in os.listdir(loc_path):\n",
    "    df = pd.read_csv(os.path.join(loc_path, f))\n",
    "    li.append(df)\n",
    "  frame = pd.concat(li)\n",
    "  frame['temp'] = frame['temp'].apply(lambda x: re.sub('[^0-9.]+', '', x)).astype(float)\n",
    "  frame = frame.drop_duplicates()\n",
    "  frame['date_time'] = pd.to_datetime(frame['date_time'])\n",
    "  temp_df = frame.set_index('date_time').sort_index().loc['2020-07-01':'2021-07-01']\n",
    "  \n",
    "  group_by_temp = temp_df.groupby([temp_df.index.date]).count()\n",
    "  print(\"Location:\", loc)\n",
    "  print(temp_df.shape)\n",
    "  corrupt_temp.append(group_by_temp.loc[group_by_temp['temp'].between(9, 23, 'both')].index.to_series())\n",
    "  print()\n",
    "  print(output_path)\n",
    "  temp_df.to_csv(os.path.join(output_path, f\"{loc.lower()}_temp_surface.csv\"))"
   ]
  },
  {
   "cell_type": "code",
   "execution_count": 90,
   "metadata": {},
   "outputs": [],
   "source": [
    "corrupt_temp = pd.concat(corrupt_temp).drop_duplicates()"
   ]
  },
  {
   "cell_type": "code",
   "execution_count": 91,
   "metadata": {},
   "outputs": [
    {
     "data": {
      "text/plain": [
       "2021-01-01    2021-01-01\n",
       "dtype: object"
      ]
     },
     "execution_count": 91,
     "metadata": {},
     "output_type": "execute_result"
    }
   ],
   "source": [
    "corrupt_temp"
   ]
  },
  {
   "cell_type": "code",
   "execution_count": 92,
   "metadata": {},
   "outputs": [],
   "source": [
    "corrupt_temp.to_csv('corrupt_temp.csv', index=False)"
   ]
  },
  {
   "cell_type": "markdown",
   "metadata": {},
   "source": [
    "# Wind"
   ]
  },
  {
   "cell_type": "code",
   "execution_count": 117,
   "metadata": {},
   "outputs": [],
   "source": [
    "basepath = 'testThread'\n",
    "savepath = 'datasci_dataset_2022'\n",
    "\n",
    "location = [\"BKK\", \"Chiangmai\", \"Khonkaen\", \"Rayong\", \"Saraburi\", \"Surat\"]"
   ]
  },
  {
   "cell_type": "code",
   "execution_count": 118,
   "metadata": {},
   "outputs": [
    {
     "name": "stdout",
     "output_type": "stream",
     "text": [
      "Location: BKK\n",
      "(5835, 2)\n",
      "\n",
      "datasci_dataset_2022\\BKK\\test\n",
      "Location: Chiangmai\n",
      "(5835, 2)\n",
      "\n",
      "datasci_dataset_2022\\Chiangmai\\test\n",
      "Location: Khonkaen\n",
      "(5835, 2)\n",
      "\n",
      "datasci_dataset_2022\\Khonkaen\\test\n",
      "Location: Rayong\n",
      "(5835, 2)\n",
      "\n",
      "datasci_dataset_2022\\Rayong\\test\n",
      "Location: Saraburi\n",
      "(5835, 2)\n",
      "\n",
      "datasci_dataset_2022\\Saraburi\\test\n",
      "Location: Surat\n",
      "(5835, 2)\n",
      "\n",
      "datasci_dataset_2022\\Surat\\test\n"
     ]
    }
   ],
   "source": [
    "corrupt_wind = []\n",
    "for loc in location:\n",
    "  loc_path = os.path.join(basepath, loc)\n",
    "  output_path = os.path.join(savepath, loc)\n",
    "  output_path = os.path.join(output_path, 'test')\n",
    "  \n",
    "  li = []\n",
    "  for f in os.listdir(loc_path):\n",
    "    df = pd.read_csv(os.path.join(loc_path, f))\n",
    "    li.append(df)\n",
    "  frame = pd.concat(li)\n",
    "  frame = frame.drop_duplicates()\n",
    "  frame['date_time']= pd.to_datetime(frame['date_time'])\n",
    "  frame = frame.set_index('date_time').sort_index().loc['2020-07-01':'2021-07-01']\n",
    "  \n",
    "  group_by_wind = frame.groupby([frame.index.date]).count()\n",
    "  print(\"Location:\", loc)\n",
    "  print(frame.shape)\n",
    "  corrupt_wind.append(group_by_wind.loc[np.logical_or((group_by_wind['wind speed'].between(9, 23, 'both')),\n",
    "                                        (group_by_wind['wind direction'].between(9, 23, 'both')))].index.to_series())\n",
    "  print()\n",
    "  print(output_path)\n",
    "  frame.to_csv(os.path.join(output_path, f\"{loc.lower()}_weather_wind.csv\"))"
   ]
  },
  {
   "cell_type": "code",
   "execution_count": 95,
   "metadata": {},
   "outputs": [],
   "source": [
    "wind_df = frame"
   ]
  },
  {
   "cell_type": "code",
   "execution_count": 96,
   "metadata": {},
   "outputs": [],
   "source": [
    "corrupt_wind = pd.concat(corrupt_wind).drop_duplicates()"
   ]
  },
  {
   "cell_type": "code",
   "execution_count": 97,
   "metadata": {},
   "outputs": [
    {
     "data": {
      "text/plain": [
       "2021-01-01    2021-01-01\n",
       "dtype: object"
      ]
     },
     "execution_count": 97,
     "metadata": {},
     "output_type": "execute_result"
    }
   ],
   "source": [
    "corrupt_wind"
   ]
  },
  {
   "cell_type": "code",
   "execution_count": 98,
   "metadata": {},
   "outputs": [],
   "source": [
    "corrupt_wind.to_csv('corrupt_wind.csv', index=False)"
   ]
  },
  {
   "cell_type": "code",
   "execution_count": 99,
   "metadata": {},
   "outputs": [
    {
     "data": {
      "text/html": [
       "<div>\n",
       "<style scoped>\n",
       "    .dataframe tbody tr th:only-of-type {\n",
       "        vertical-align: middle;\n",
       "    }\n",
       "\n",
       "    .dataframe tbody tr th {\n",
       "        vertical-align: top;\n",
       "    }\n",
       "\n",
       "    .dataframe thead th {\n",
       "        text-align: right;\n",
       "    }\n",
       "</style>\n",
       "<table border=\"1\" class=\"dataframe\">\n",
       "  <thead>\n",
       "    <tr style=\"text-align: right;\">\n",
       "      <th></th>\n",
       "      <th>wind speed</th>\n",
       "      <th>wind direction</th>\n",
       "    </tr>\n",
       "    <tr>\n",
       "      <th>date_time</th>\n",
       "      <th></th>\n",
       "      <th></th>\n",
       "    </tr>\n",
       "  </thead>\n",
       "  <tbody>\n",
       "    <tr>\n",
       "      <th>2020-07-01 01:00:00</th>\n",
       "      <td>21.0</td>\n",
       "      <td>255.0</td>\n",
       "    </tr>\n",
       "    <tr>\n",
       "      <th>2020-07-01 04:00:00</th>\n",
       "      <td>29.0</td>\n",
       "      <td>255.0</td>\n",
       "    </tr>\n",
       "    <tr>\n",
       "      <th>2020-07-01 07:00:00</th>\n",
       "      <td>35.0</td>\n",
       "      <td>250.0</td>\n",
       "    </tr>\n",
       "    <tr>\n",
       "      <th>2020-07-01 10:00:00</th>\n",
       "      <td>36.0</td>\n",
       "      <td>250.0</td>\n",
       "    </tr>\n",
       "    <tr>\n",
       "      <th>2020-07-01 13:00:00</th>\n",
       "      <td>29.0</td>\n",
       "      <td>255.0</td>\n",
       "    </tr>\n",
       "    <tr>\n",
       "      <th>...</th>\n",
       "      <td>...</td>\n",
       "      <td>...</td>\n",
       "    </tr>\n",
       "    <tr>\n",
       "      <th>2021-07-01 19:00:00</th>\n",
       "      <td>9.0</td>\n",
       "      <td>245.0</td>\n",
       "    </tr>\n",
       "    <tr>\n",
       "      <th>2021-07-01 20:00:00</th>\n",
       "      <td>9.0</td>\n",
       "      <td>245.0</td>\n",
       "    </tr>\n",
       "    <tr>\n",
       "      <th>2021-07-01 21:00:00</th>\n",
       "      <td>9.0</td>\n",
       "      <td>235.0</td>\n",
       "    </tr>\n",
       "    <tr>\n",
       "      <th>2021-07-01 22:00:00</th>\n",
       "      <td>9.0</td>\n",
       "      <td>235.0</td>\n",
       "    </tr>\n",
       "    <tr>\n",
       "      <th>2021-07-01 23:00:00</th>\n",
       "      <td>7.0</td>\n",
       "      <td>245.0</td>\n",
       "    </tr>\n",
       "  </tbody>\n",
       "</table>\n",
       "<p>5835 rows × 2 columns</p>\n",
       "</div>"
      ],
      "text/plain": [
       "                     wind speed  wind direction\n",
       "date_time                                      \n",
       "2020-07-01 01:00:00        21.0           255.0\n",
       "2020-07-01 04:00:00        29.0           255.0\n",
       "2020-07-01 07:00:00        35.0           250.0\n",
       "2020-07-01 10:00:00        36.0           250.0\n",
       "2020-07-01 13:00:00        29.0           255.0\n",
       "...                         ...             ...\n",
       "2021-07-01 19:00:00         9.0           245.0\n",
       "2021-07-01 20:00:00         9.0           245.0\n",
       "2021-07-01 21:00:00         9.0           235.0\n",
       "2021-07-01 22:00:00         9.0           235.0\n",
       "2021-07-01 23:00:00         7.0           245.0\n",
       "\n",
       "[5835 rows x 2 columns]"
      ]
     },
     "execution_count": 99,
     "metadata": {},
     "output_type": "execute_result"
    }
   ],
   "source": [
    "wind_df"
   ]
  },
  {
   "cell_type": "markdown",
   "metadata": {},
   "source": [
    "# Merge Wind and Temperature"
   ]
  },
  {
   "cell_type": "code",
   "execution_count": 100,
   "metadata": {},
   "outputs": [],
   "source": [
    "merge_df = temp_df.join(wind_df, on='date_time')"
   ]
  },
  {
   "cell_type": "code",
   "execution_count": 101,
   "metadata": {},
   "outputs": [
    {
     "data": {
      "text/html": [
       "<div>\n",
       "<style scoped>\n",
       "    .dataframe tbody tr th:only-of-type {\n",
       "        vertical-align: middle;\n",
       "    }\n",
       "\n",
       "    .dataframe tbody tr th {\n",
       "        vertical-align: top;\n",
       "    }\n",
       "\n",
       "    .dataframe thead th {\n",
       "        text-align: right;\n",
       "    }\n",
       "</style>\n",
       "<table border=\"1\" class=\"dataframe\">\n",
       "  <thead>\n",
       "    <tr style=\"text-align: right;\">\n",
       "      <th></th>\n",
       "      <th>temp</th>\n",
       "      <th>wind speed</th>\n",
       "      <th>wind direction</th>\n",
       "    </tr>\n",
       "    <tr>\n",
       "      <th>date_time</th>\n",
       "      <th></th>\n",
       "      <th></th>\n",
       "      <th></th>\n",
       "    </tr>\n",
       "  </thead>\n",
       "  <tbody>\n",
       "  </tbody>\n",
       "</table>\n",
       "</div>"
      ],
      "text/plain": [
       "Empty DataFrame\n",
       "Columns: [temp, wind speed, wind direction]\n",
       "Index: []"
      ]
     },
     "execution_count": 101,
     "metadata": {},
     "output_type": "execute_result"
    }
   ],
   "source": [
    "merge_df.loc[merge_df.isna().sum(axis=1).astype(bool)].sort_index()"
   ]
  },
  {
   "cell_type": "code",
   "execution_count": 143,
   "metadata": {},
   "outputs": [
    {
     "data": {
      "text/html": [
       "<div>\n",
       "<style scoped>\n",
       "    .dataframe tbody tr th:only-of-type {\n",
       "        vertical-align: middle;\n",
       "    }\n",
       "\n",
       "    .dataframe tbody tr th {\n",
       "        vertical-align: top;\n",
       "    }\n",
       "\n",
       "    .dataframe thead th {\n",
       "        text-align: right;\n",
       "    }\n",
       "</style>\n",
       "<table border=\"1\" class=\"dataframe\">\n",
       "  <thead>\n",
       "    <tr style=\"text-align: right;\">\n",
       "      <th></th>\n",
       "      <th>temp</th>\n",
       "      <th>wind speed</th>\n",
       "      <th>wind direction</th>\n",
       "    </tr>\n",
       "    <tr>\n",
       "      <th>date_time</th>\n",
       "      <th></th>\n",
       "      <th></th>\n",
       "      <th></th>\n",
       "    </tr>\n",
       "  </thead>\n",
       "  <tbody>\n",
       "    <tr>\n",
       "      <th>2020-07-01 01:00:00</th>\n",
       "      <td>25.2</td>\n",
       "      <td>21.0</td>\n",
       "      <td>255.0</td>\n",
       "    </tr>\n",
       "    <tr>\n",
       "      <th>2020-07-01 04:00:00</th>\n",
       "      <td>24.7</td>\n",
       "      <td>29.0</td>\n",
       "      <td>255.0</td>\n",
       "    </tr>\n",
       "    <tr>\n",
       "      <th>2020-07-01 07:00:00</th>\n",
       "      <td>25.4</td>\n",
       "      <td>35.0</td>\n",
       "      <td>250.0</td>\n",
       "    </tr>\n",
       "    <tr>\n",
       "      <th>2020-07-01 10:00:00</th>\n",
       "      <td>29.3</td>\n",
       "      <td>36.0</td>\n",
       "      <td>250.0</td>\n",
       "    </tr>\n",
       "    <tr>\n",
       "      <th>2020-07-01 13:00:00</th>\n",
       "      <td>31.7</td>\n",
       "      <td>29.0</td>\n",
       "      <td>255.0</td>\n",
       "    </tr>\n",
       "    <tr>\n",
       "      <th>...</th>\n",
       "      <td>...</td>\n",
       "      <td>...</td>\n",
       "      <td>...</td>\n",
       "    </tr>\n",
       "    <tr>\n",
       "      <th>2020-07-12 22:00:00</th>\n",
       "      <td>25.1</td>\n",
       "      <td>31.0</td>\n",
       "      <td>265.0</td>\n",
       "    </tr>\n",
       "    <tr>\n",
       "      <th>2020-07-13 01:00:00</th>\n",
       "      <td>24.9</td>\n",
       "      <td>32.0</td>\n",
       "      <td>270.0</td>\n",
       "    </tr>\n",
       "    <tr>\n",
       "      <th>2020-07-13 04:00:00</th>\n",
       "      <td>24.2</td>\n",
       "      <td>34.0</td>\n",
       "      <td>270.0</td>\n",
       "    </tr>\n",
       "    <tr>\n",
       "      <th>2020-07-13 07:00:00</th>\n",
       "      <td>24.8</td>\n",
       "      <td>23.0</td>\n",
       "      <td>265.0</td>\n",
       "    </tr>\n",
       "    <tr>\n",
       "      <th>2020-07-13 10:00:00</th>\n",
       "      <td>28.4</td>\n",
       "      <td>24.0</td>\n",
       "      <td>260.0</td>\n",
       "    </tr>\n",
       "  </tbody>\n",
       "</table>\n",
       "<p>100 rows × 3 columns</p>\n",
       "</div>"
      ],
      "text/plain": [
       "                     temp  wind speed  wind direction\n",
       "date_time                                            \n",
       "2020-07-01 01:00:00  25.2        21.0           255.0\n",
       "2020-07-01 04:00:00  24.7        29.0           255.0\n",
       "2020-07-01 07:00:00  25.4        35.0           250.0\n",
       "2020-07-01 10:00:00  29.3        36.0           250.0\n",
       "2020-07-01 13:00:00  31.7        29.0           255.0\n",
       "...                   ...         ...             ...\n",
       "2020-07-12 22:00:00  25.1        31.0           265.0\n",
       "2020-07-13 01:00:00  24.9        32.0           270.0\n",
       "2020-07-13 04:00:00  24.2        34.0           270.0\n",
       "2020-07-13 07:00:00  24.8        23.0           265.0\n",
       "2020-07-13 10:00:00  28.4        24.0           260.0\n",
       "\n",
       "[100 rows x 3 columns]"
      ]
     },
     "execution_count": 143,
     "metadata": {},
     "output_type": "execute_result"
    }
   ],
   "source": [
    "merge_df.head(100)"
   ]
  },
  {
   "cell_type": "code",
   "execution_count": 102,
   "metadata": {},
   "outputs": [],
   "source": [
    "merge_df.groupby([merge_df.index.date]).count().to_csv('testtest.csv')"
   ]
  },
  {
   "cell_type": "code",
   "execution_count": 103,
   "metadata": {},
   "outputs": [
    {
     "data": {
      "text/html": [
       "<div>\n",
       "<style scoped>\n",
       "    .dataframe tbody tr th:only-of-type {\n",
       "        vertical-align: middle;\n",
       "    }\n",
       "\n",
       "    .dataframe tbody tr th {\n",
       "        vertical-align: top;\n",
       "    }\n",
       "\n",
       "    .dataframe thead th {\n",
       "        text-align: right;\n",
       "    }\n",
       "</style>\n",
       "<table border=\"1\" class=\"dataframe\">\n",
       "  <thead>\n",
       "    <tr style=\"text-align: right;\">\n",
       "      <th></th>\n",
       "      <th>temp</th>\n",
       "      <th>wind speed</th>\n",
       "      <th>wind direction</th>\n",
       "    </tr>\n",
       "    <tr>\n",
       "      <th>date_time</th>\n",
       "      <th></th>\n",
       "      <th></th>\n",
       "      <th></th>\n",
       "    </tr>\n",
       "  </thead>\n",
       "  <tbody>\n",
       "    <tr>\n",
       "      <th>2020-07-01 01:00:00</th>\n",
       "      <td>25.2</td>\n",
       "      <td>21.0</td>\n",
       "      <td>255.0</td>\n",
       "    </tr>\n",
       "    <tr>\n",
       "      <th>2020-07-01 04:00:00</th>\n",
       "      <td>24.7</td>\n",
       "      <td>29.0</td>\n",
       "      <td>255.0</td>\n",
       "    </tr>\n",
       "    <tr>\n",
       "      <th>2020-07-01 07:00:00</th>\n",
       "      <td>25.4</td>\n",
       "      <td>35.0</td>\n",
       "      <td>250.0</td>\n",
       "    </tr>\n",
       "    <tr>\n",
       "      <th>2020-07-01 10:00:00</th>\n",
       "      <td>29.3</td>\n",
       "      <td>36.0</td>\n",
       "      <td>250.0</td>\n",
       "    </tr>\n",
       "    <tr>\n",
       "      <th>2020-07-01 13:00:00</th>\n",
       "      <td>31.7</td>\n",
       "      <td>29.0</td>\n",
       "      <td>255.0</td>\n",
       "    </tr>\n",
       "    <tr>\n",
       "      <th>...</th>\n",
       "      <td>...</td>\n",
       "      <td>...</td>\n",
       "      <td>...</td>\n",
       "    </tr>\n",
       "    <tr>\n",
       "      <th>2021-07-01 19:00:00</th>\n",
       "      <td>26.8</td>\n",
       "      <td>9.0</td>\n",
       "      <td>245.0</td>\n",
       "    </tr>\n",
       "    <tr>\n",
       "      <th>2021-07-01 20:00:00</th>\n",
       "      <td>26.2</td>\n",
       "      <td>9.0</td>\n",
       "      <td>245.0</td>\n",
       "    </tr>\n",
       "    <tr>\n",
       "      <th>2021-07-01 21:00:00</th>\n",
       "      <td>25.9</td>\n",
       "      <td>9.0</td>\n",
       "      <td>235.0</td>\n",
       "    </tr>\n",
       "    <tr>\n",
       "      <th>2021-07-01 22:00:00</th>\n",
       "      <td>25.7</td>\n",
       "      <td>9.0</td>\n",
       "      <td>235.0</td>\n",
       "    </tr>\n",
       "    <tr>\n",
       "      <th>2021-07-01 23:00:00</th>\n",
       "      <td>25.5</td>\n",
       "      <td>7.0</td>\n",
       "      <td>245.0</td>\n",
       "    </tr>\n",
       "  </tbody>\n",
       "</table>\n",
       "<p>5835 rows × 3 columns</p>\n",
       "</div>"
      ],
      "text/plain": [
       "                     temp  wind speed  wind direction\n",
       "date_time                                            \n",
       "2020-07-01 01:00:00  25.2        21.0           255.0\n",
       "2020-07-01 04:00:00  24.7        29.0           255.0\n",
       "2020-07-01 07:00:00  25.4        35.0           250.0\n",
       "2020-07-01 10:00:00  29.3        36.0           250.0\n",
       "2020-07-01 13:00:00  31.7        29.0           255.0\n",
       "...                   ...         ...             ...\n",
       "2021-07-01 19:00:00  26.8         9.0           245.0\n",
       "2021-07-01 20:00:00  26.2         9.0           245.0\n",
       "2021-07-01 21:00:00  25.9         9.0           235.0\n",
       "2021-07-01 22:00:00  25.7         9.0           235.0\n",
       "2021-07-01 23:00:00  25.5         7.0           245.0\n",
       "\n",
       "[5835 rows x 3 columns]"
      ]
     },
     "execution_count": 103,
     "metadata": {},
     "output_type": "execute_result"
    }
   ],
   "source": [
    "merge_df"
   ]
  },
  {
   "cell_type": "code",
   "execution_count": 104,
   "metadata": {},
   "outputs": [
    {
     "data": {
      "text/html": [
       "<div>\n",
       "<style scoped>\n",
       "    .dataframe tbody tr th:only-of-type {\n",
       "        vertical-align: middle;\n",
       "    }\n",
       "\n",
       "    .dataframe tbody tr th {\n",
       "        vertical-align: top;\n",
       "    }\n",
       "\n",
       "    .dataframe thead th {\n",
       "        text-align: right;\n",
       "    }\n",
       "</style>\n",
       "<table border=\"1\" class=\"dataframe\">\n",
       "  <thead>\n",
       "    <tr style=\"text-align: right;\">\n",
       "      <th></th>\n",
       "      <th>temp</th>\n",
       "      <th>wind speed</th>\n",
       "      <th>wind direction</th>\n",
       "    </tr>\n",
       "  </thead>\n",
       "  <tbody>\n",
       "    <tr>\n",
       "      <th>2020-07-01</th>\n",
       "      <td>8</td>\n",
       "      <td>8</td>\n",
       "      <td>8</td>\n",
       "    </tr>\n",
       "    <tr>\n",
       "      <th>2020-07-02</th>\n",
       "      <td>8</td>\n",
       "      <td>8</td>\n",
       "      <td>8</td>\n",
       "    </tr>\n",
       "    <tr>\n",
       "      <th>2020-07-03</th>\n",
       "      <td>8</td>\n",
       "      <td>8</td>\n",
       "      <td>8</td>\n",
       "    </tr>\n",
       "    <tr>\n",
       "      <th>2020-07-04</th>\n",
       "      <td>8</td>\n",
       "      <td>8</td>\n",
       "      <td>8</td>\n",
       "    </tr>\n",
       "    <tr>\n",
       "      <th>2020-07-05</th>\n",
       "      <td>8</td>\n",
       "      <td>8</td>\n",
       "      <td>8</td>\n",
       "    </tr>\n",
       "    <tr>\n",
       "      <th>...</th>\n",
       "      <td>...</td>\n",
       "      <td>...</td>\n",
       "      <td>...</td>\n",
       "    </tr>\n",
       "    <tr>\n",
       "      <th>2021-06-27</th>\n",
       "      <td>24</td>\n",
       "      <td>24</td>\n",
       "      <td>24</td>\n",
       "    </tr>\n",
       "    <tr>\n",
       "      <th>2021-06-28</th>\n",
       "      <td>24</td>\n",
       "      <td>24</td>\n",
       "      <td>24</td>\n",
       "    </tr>\n",
       "    <tr>\n",
       "      <th>2021-06-29</th>\n",
       "      <td>24</td>\n",
       "      <td>24</td>\n",
       "      <td>24</td>\n",
       "    </tr>\n",
       "    <tr>\n",
       "      <th>2021-06-30</th>\n",
       "      <td>24</td>\n",
       "      <td>24</td>\n",
       "      <td>24</td>\n",
       "    </tr>\n",
       "    <tr>\n",
       "      <th>2021-07-01</th>\n",
       "      <td>24</td>\n",
       "      <td>24</td>\n",
       "      <td>24</td>\n",
       "    </tr>\n",
       "  </tbody>\n",
       "</table>\n",
       "<p>366 rows × 3 columns</p>\n",
       "</div>"
      ],
      "text/plain": [
       "            temp  wind speed  wind direction\n",
       "2020-07-01     8           8               8\n",
       "2020-07-02     8           8               8\n",
       "2020-07-03     8           8               8\n",
       "2020-07-04     8           8               8\n",
       "2020-07-05     8           8               8\n",
       "...          ...         ...             ...\n",
       "2021-06-27    24          24              24\n",
       "2021-06-28    24          24              24\n",
       "2021-06-29    24          24              24\n",
       "2021-06-30    24          24              24\n",
       "2021-07-01    24          24              24\n",
       "\n",
       "[366 rows x 3 columns]"
      ]
     },
     "execution_count": 104,
     "metadata": {},
     "output_type": "execute_result"
    }
   ],
   "source": [
    "merge_df.groupby([merge_df.index.date]).count()"
   ]
  },
  {
   "cell_type": "code",
   "execution_count": null,
   "metadata": {},
   "outputs": [],
   "source": []
  }
 ],
 "metadata": {
  "interpreter": {
   "hash": "0bb4b9b1b0953d246fa263114367ef73d78897a5fec9308a482733529b7b4aac"
  },
  "kernelspec": {
   "display_name": "Python 3.7.11 ('work')",
   "language": "python",
   "name": "python3"
  },
  "language_info": {
   "codemirror_mode": {
    "name": "ipython",
    "version": 3
   },
   "file_extension": ".py",
   "mimetype": "text/x-python",
   "name": "python",
   "nbconvert_exporter": "python",
   "pygments_lexer": "ipython3",
   "version": "3.7.11"
  },
  "orig_nbformat": 4
 },
 "nbformat": 4,
 "nbformat_minor": 2
}
