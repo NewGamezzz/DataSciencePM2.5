{
 "cells": [
  {
   "cell_type": "code",
   "execution_count": 1,
   "metadata": {},
   "outputs": [],
   "source": [
    "import os"
   ]
  },
  {
   "cell_type": "code",
   "execution_count": 1,
   "metadata": {},
   "outputs": [],
   "source": [
    "base_path = 'wind_test'\n",
    "location = [\"BKK\", \"Chiangmai\", \"Khonkaen\", \"Rayong\", \"Saraburi\", \"Surat\"]\n",
    "\n",
    "for folder in location:\n",
    "  path = os.path.join(base_path, folder)\n",
    "  os.mkdir(path)"
   ]
  },
  {
   "cell_type": "code",
   "execution_count": null,
   "metadata": {},
   "outputs": [],
   "source": []
  }
 ],
 "metadata": {
  "interpreter": {
   "hash": "0bb4b9b1b0953d246fa263114367ef73d78897a5fec9308a482733529b7b4aac"
  },
  "kernelspec": {
   "display_name": "Python 3.7.11 ('work')",
   "language": "python",
   "name": "python3"
  },
  "language_info": {
   "codemirror_mode": {
    "name": "ipython",
    "version": 3
   },
   "file_extension": ".py",
   "mimetype": "text/x-python",
   "name": "python",
   "nbconvert_exporter": "python",
   "pygments_lexer": "ipython3",
   "version": "3.7.11"
  },
  "orig_nbformat": 4
 },
 "nbformat": 4,
 "nbformat_minor": 2
}
