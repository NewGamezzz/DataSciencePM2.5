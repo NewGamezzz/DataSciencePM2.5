{
 "cells": [
  {
   "cell_type": "code",
   "execution_count": 23,
   "metadata": {},
   "outputs": [],
   "source": [
    "import time\n",
    "import re\n",
    "import threading\n",
    "import pandas as pd\n",
    "\n",
    "from IPython.display import clear_output\n",
    "from datetime import datetime, timedelta\n",
    "from bs4 import BeautifulSoup\n",
    "from selenium import webdriver\n",
    "from selenium.webdriver.chrome.service import Service as ChromeService\n",
    "from selenium.webdriver.common.by import By\n",
    "from webdriver_manager.chrome import ChromeDriverManager\n",
    "\n",
    "from utils.webscraper import WebScraper\n",
    "from utils.scraper import ScrapWind, ScrapTemperature"
   ]
  },
  {
   "cell_type": "code",
   "execution_count": 24,
   "metadata": {},
   "outputs": [],
   "source": [
    "position = {\"BKK\": (100.536443, 13.729984), \n",
    "            \"Chiangmai\": (98.969661, 18.840633),\n",
    "            \"Khonkaen\": (102.835251, 16.445329),\n",
    "            \"Rayong\": (101.275875, 12.671521),\n",
    "            \"Saraburi\": (100.871996, 14.685833),\n",
    "            \"Surat\": (99.325355, 9.126057)}"
   ]
  },
  {
   "cell_type": "code",
   "execution_count": 25,
   "metadata": {},
   "outputs": [],
   "source": [
    "def thread_scraping_wind(startDate, stopDate, location, basepath, savepath):\n",
    "  scraper = ScrapWind()\n",
    "  web = WebScraper(scraper)\n",
    "  kwargs = {\"startDate\": startDate, \"stopDate\": stopDate, \"location\": location, \"basepath\": basepath, \"savepath\": savepath}\n",
    "  _ = web.scraping(**kwargs)"
   ]
  },
  {
   "cell_type": "code",
   "execution_count": 26,
   "metadata": {},
   "outputs": [],
   "source": [
    "def thread_scraping_temp(startDate, stopDate, location, basepath, savepath):\n",
    "  scraper = ScrapTemperature()\n",
    "  web = WebScraper(scraper)\n",
    "  kwargs = {\"startDate\": startDate, \"stopDate\": stopDate, \"location\": location, \"basepath\": basepath, \"savepath\": savepath}\n",
    "  _ = web.scraping(**kwargs)"
   ]
  },
  {
   "cell_type": "code",
   "execution_count": 27,
   "metadata": {},
   "outputs": [],
   "source": [
    "threads = []"
   ]
  },
  {
   "cell_type": "markdown",
   "metadata": {},
   "source": [
    "# Single Thread"
   ]
  },
  {
   "cell_type": "code",
   "execution_count": 28,
   "metadata": {},
   "outputs": [],
   "source": [
    "# basepath = 'temp_test'\n",
    "# location = [\"BKK\", \"Chiangmai\", \"Khonkaen\", \"Rayong\", \"Saraburi\", \"Surat\"]\n",
    "# startDate, stopDate = (datetime.strptime(\"2020-11-01\", '%Y-%m-%d'), datetime.strptime(\"2020-12-01\", '%Y-%m-%d'))\n",
    "# savepath = f'test_temp_surf_{startDate.strftime(\"%Y_%m_%d\")}_{stopDate.strftime(\"%Y_%m_%d\")}.csv'\n",
    "# kwargs = {\"startDate\": startDate, \"stopDate\": stopDate, \"location\": location, \"basepath\": basepath, \"savepath\": savepath}\n",
    "\n",
    "# scraper = ScrapTemperature()\n",
    "# web = WebScraper(scraper)\n",
    "# kwargs = {\"startDate\": startDate, \"stopDate\": stopDate, \"location\": location, \"basepath\": basepath, \"savepath\": savepath}\n",
    "# _ = web.scraping(**kwargs)"
   ]
  },
  {
   "cell_type": "markdown",
   "metadata": {},
   "source": [
    "# MultiThread"
   ]
  },
  {
   "cell_type": "code",
   "execution_count": 5,
   "metadata": {},
   "outputs": [
    {
     "name": "stdout",
     "output_type": "stream",
     "text": [
      "DateTime: 2021-05-31 21:00:00\n"
     ]
    }
   ],
   "source": [
    "# basepath = 'temp_test'\n",
    "# location = [\"BKK\", \"Chiangmai\", \"Khonkaen\", \"Rayong\", \"Saraburi\", \"Surat\"]\n",
    "\n",
    "# date_range = list(pd.date_range(start='7/1/2020', end='8/1/2021', freq='MS'))\n",
    "# for idx, date in enumerate(date_range[:-1]):\n",
    "#   startDate = datetime.strptime(str(date_range[idx]), '%Y-%m-%d %H:%M:%S')\n",
    "#   stopDate = datetime.strptime(str(date_range[idx+1]), '%Y-%m-%d %H:%M:%S')\n",
    "#   savepath = f'test_temp_surf_{startDate.strftime(\"%Y_%m_%d\")}_{stopDate.strftime(\"%Y_%m_%d\")}.csv'\n",
    "#   kwargs = {\"startDate\": startDate, \"stopDate\": stopDate, \"location\": location, \"basepath\": basepath, \"savepath\": savepath}\n",
    "#   x = threading.Thread(target=thread_scraping, args=(startDate, stopDate, location, basepath, savepath))\n",
    "#   threads.append(x)\n",
    "#   x.start()\n",
    "\n",
    "# for index, thread in enumerate(threads):\n",
    "#   thread.join()"
   ]
  },
  {
   "cell_type": "code",
   "execution_count": 16,
   "metadata": {},
   "outputs": [
    {
     "name": "stdout",
     "output_type": "stream",
     "text": [
      "DateTime: 2021-04-01 00:00:00\n"
     ]
    }
   ],
   "source": [
    "date_range = [#(datetime.strptime(\"2020-07-30\", '%Y-%m-%d'), datetime.strptime(\"2020-08-01\", '%Y-%m-%d')),\n",
    "              #(datetime.strptime(\"2020-08-31\", '%Y-%m-%d'), datetime.strptime(\"2020-09-01\", '%Y-%m-%d')),\n",
    "              (datetime.strptime(\"2020-09-21\", '%Y-%m-%d'), datetime.strptime(\"2020-09-22\", '%Y-%m-%d')),\n",
    "              (datetime.strptime(\"2020-11-02\", '%Y-%m-%d'), datetime.strptime(\"2020-11-03\", '%Y-%m-%d')),\n",
    "              (datetime.strptime(\"2021-03-01\", '%Y-%m-%d'), datetime.strptime(\"2021-04-01\", '%Y-%m-%d')),\n",
    "              (datetime.strptime(\"2021-04-01\", '%Y-%m-%d'), datetime.strptime(\"2021-05-01\", '%Y-%m-%d')),\n",
    "              (datetime.strptime(\"2021-05-01\", '%Y-%m-%d'), datetime.strptime(\"2021-06-01\", '%Y-%m-%d')),\n",
    "              (datetime.strptime(\"2021-06-01\", '%Y-%m-%d'), datetime.strptime(\"2021-07-01\", '%Y-%m-%d'))\n",
    "]\n",
    "\n",
    "basepath = 'testThread'\n",
    "location = [\"BKK\", \"Chiangmai\", \"Khonkaen\", \"Rayong\", \"Saraburi\", \"Surat\"]\n",
    "threads = []\n",
    "\n",
    "for idx, (startDate, stopDate) in enumerate(date_range):\n",
    "  savepath = f'test_6_weather_wind_{startDate.strftime(\"%Y_%m_%d\")}_{stopDate.strftime(\"%Y_%m_%d\")}.csv'\n",
    "  kwargs = {\"startDate\": startDate, \"stopDate\": stopDate, \"location\": location, \"basepath\": basepath, \"savepath\": savepath}\n",
    "  x = threading.Thread(target=thread_scraping, args=(startDate, stopDate, location, basepath, savepath))\n",
    "  threads.append(x)\n",
    "  x.start()\n",
    "  \n",
    "for index, thread in enumerate(threads):\n",
    "  thread.join()"
   ]
  },
  {
   "cell_type": "markdown",
   "metadata": {},
   "source": [
    "# Glean the corrupt temp and wind"
   ]
  },
  {
   "cell_type": "markdown",
   "metadata": {},
   "source": [
    "## Wind"
   ]
  },
  {
   "cell_type": "code",
   "execution_count": 21,
   "metadata": {},
   "outputs": [],
   "source": [
    "corrupt_wind = pd.read_csv('corrupt_wind.csv')\n",
    "\n",
    "basepath = 'testThread'\n",
    "location = [\"BKK\", \"Chiangmai\", \"Khonkaen\", \"Rayong\", \"Saraburi\", \"Surat\"]\n",
    "threads = []"
   ]
  },
  {
   "cell_type": "code",
   "execution_count": 22,
   "metadata": {},
   "outputs": [
    {
     "name": "stdout",
     "output_type": "stream",
     "text": [
      "DateTime: 2021-06-01 19:00:00\n"
     ]
    }
   ],
   "source": [
    "for idx, date in corrupt_wind.iterrows():\n",
    "  startDate = datetime.strptime(date.values[0], '%Y-%m-%d')\n",
    "  stopDate = startDate + timedelta(days=1)\n",
    "  savepath = f'test_7_weather_wind_{startDate.strftime(\"%Y_%m_%d\")}_{stopDate.strftime(\"%Y_%m_%d\")}.csv'\n",
    "  kwargs = {\"startDate\": startDate, \"stopDate\": stopDate, \"location\": location, \"basepath\": basepath, \"savepath\": savepath}\n",
    "  x = threading.Thread(target=thread_scraping_wind, args=(startDate, stopDate, location, basepath, savepath))\n",
    "  threads.append(x)\n",
    "  x.start()\n",
    "  \n",
    "for index, thread in enumerate(threads):\n",
    "  thread.join()"
   ]
  },
  {
   "cell_type": "markdown",
   "metadata": {},
   "source": [
    "## Temperature"
   ]
  },
  {
   "cell_type": "code",
   "execution_count": 14,
   "metadata": {},
   "outputs": [],
   "source": [
    "corrupt_temp = pd.read_csv('corrupt_temp.csv')\n",
    "\n",
    "basepath = 'temp_test'\n",
    "location = [\"BKK\", \"Chiangmai\", \"Khonkaen\", \"Rayong\", \"Saraburi\", \"Surat\"]\n",
    "threads = []"
   ]
  },
  {
   "cell_type": "code",
   "execution_count": 15,
   "metadata": {},
   "outputs": [
    {
     "name": "stdout",
     "output_type": "stream",
     "text": [
      "DateTime: 2021-06-05 15:00:00\n"
     ]
    }
   ],
   "source": [
    "for idx, date in corrupt_temp.iterrows():\n",
    "  if idx > 50:\n",
    "    break\n",
    "\n",
    "  startDate = datetime.strptime(date.values[0], '%Y-%m-%d')\n",
    "  stopDate = startDate + timedelta(days=1)\n",
    "  savepath = f'test_1_temp_surf_{startDate.strftime(\"%Y_%m_%d\")}_{stopDate.strftime(\"%Y_%m_%d\")}.csv'\n",
    "  kwargs = {\"startDate\": startDate, \"stopDate\": stopDate, \"location\": location, \"basepath\": basepath, \"savepath\": savepath}\n",
    "  x = threading.Thread(target=thread_scraping_temp, args=(startDate, stopDate, location, basepath, savepath))\n",
    "  threads.append(x)\n",
    "  x.start()\n",
    "  \n",
    "for index, thread in enumerate(threads):\n",
    "  thread.join()"
   ]
  },
  {
   "cell_type": "markdown",
   "metadata": {},
   "source": [
    "# Scrap Hotspot"
   ]
  },
  {
   "cell_type": "code",
   "execution_count": null,
   "metadata": {},
   "outputs": [],
   "source": [
    "import requests\n",
    "import pandas as pd"
   ]
  },
  {
   "cell_type": "code",
   "execution_count": null,
   "metadata": {},
   "outputs": [],
   "source": [
    "url = 'http://asmc.asean.org/wp-content/themes/asmctheme/page-functions/functions-ajax-haze-daily-hotspot-count-new.php'\n",
    "object = {\n",
    "          'date': '3 July, 2021',\n",
    "          'pastDays': 368,\n",
    "          'regions[]': ['P_Malaysia', 'Lao_PDR', 'Thailand', 'Vietnam', 'Myanmar'],\n",
    "          'daynight': 'night',\n",
    "          'conf': 'High'\n",
    "}\n",
    "x = requests.post(url, data=object)"
   ]
  },
  {
   "cell_type": "code",
   "execution_count": null,
   "metadata": {},
   "outputs": [],
   "source": [
    "df = pd.DataFrame(columns = ['date'] + object['regions[]'])\n",
    "\n",
    "for data in x.json():\n",
    "  df = df.append(data, ignore_index=True)\n",
    "\n",
    "df['date'] = pd.to_datetime(df['date'])\n",
    "df = df.set_index('date').iloc[:, 0:5]\n",
    "df = df.sort_index()"
   ]
  },
  {
   "cell_type": "code",
   "execution_count": null,
   "metadata": {},
   "outputs": [],
   "source": [
    "df.to_csv('hotspot_night_test.csv')"
   ]
  },
  {
   "cell_type": "code",
   "execution_count": null,
   "metadata": {},
   "outputs": [
    {
     "data": {
      "text/html": [
       "<div>\n",
       "<style scoped>\n",
       "    .dataframe tbody tr th:only-of-type {\n",
       "        vertical-align: middle;\n",
       "    }\n",
       "\n",
       "    .dataframe tbody tr th {\n",
       "        vertical-align: top;\n",
       "    }\n",
       "\n",
       "    .dataframe thead th {\n",
       "        text-align: right;\n",
       "    }\n",
       "</style>\n",
       "<table border=\"1\" class=\"dataframe\">\n",
       "  <thead>\n",
       "    <tr style=\"text-align: right;\">\n",
       "      <th></th>\n",
       "      <th>P_Malaysia</th>\n",
       "      <th>Lao_PDR</th>\n",
       "      <th>Thailand</th>\n",
       "      <th>Vietnam</th>\n",
       "      <th>Myanmar</th>\n",
       "    </tr>\n",
       "    <tr>\n",
       "      <th>date</th>\n",
       "      <th></th>\n",
       "      <th></th>\n",
       "      <th></th>\n",
       "      <th></th>\n",
       "      <th></th>\n",
       "    </tr>\n",
       "  </thead>\n",
       "  <tbody>\n",
       "    <tr>\n",
       "      <th>2020-07-01</th>\n",
       "      <td>0</td>\n",
       "      <td>0</td>\n",
       "      <td>0</td>\n",
       "      <td>0</td>\n",
       "      <td>0</td>\n",
       "    </tr>\n",
       "    <tr>\n",
       "      <th>2020-07-02</th>\n",
       "      <td>0</td>\n",
       "      <td>0</td>\n",
       "      <td>0</td>\n",
       "      <td>0</td>\n",
       "      <td>0</td>\n",
       "    </tr>\n",
       "    <tr>\n",
       "      <th>2020-07-04</th>\n",
       "      <td>0</td>\n",
       "      <td>0</td>\n",
       "      <td>0</td>\n",
       "      <td>0</td>\n",
       "      <td>0</td>\n",
       "    </tr>\n",
       "    <tr>\n",
       "      <th>2020-07-05</th>\n",
       "      <td>0</td>\n",
       "      <td>0</td>\n",
       "      <td>0</td>\n",
       "      <td>0</td>\n",
       "      <td>0</td>\n",
       "    </tr>\n",
       "    <tr>\n",
       "      <th>2020-07-06</th>\n",
       "      <td>0</td>\n",
       "      <td>0</td>\n",
       "      <td>0</td>\n",
       "      <td>0</td>\n",
       "      <td>0</td>\n",
       "    </tr>\n",
       "    <tr>\n",
       "      <th>...</th>\n",
       "      <td>...</td>\n",
       "      <td>...</td>\n",
       "      <td>...</td>\n",
       "      <td>...</td>\n",
       "      <td>...</td>\n",
       "    </tr>\n",
       "    <tr>\n",
       "      <th>2021-06-28</th>\n",
       "      <td>0</td>\n",
       "      <td>0</td>\n",
       "      <td>0</td>\n",
       "      <td>0</td>\n",
       "      <td>0</td>\n",
       "    </tr>\n",
       "    <tr>\n",
       "      <th>2021-06-29</th>\n",
       "      <td>0</td>\n",
       "      <td>0</td>\n",
       "      <td>0</td>\n",
       "      <td>0</td>\n",
       "      <td>0</td>\n",
       "    </tr>\n",
       "    <tr>\n",
       "      <th>2021-06-30</th>\n",
       "      <td>0</td>\n",
       "      <td>0</td>\n",
       "      <td>0</td>\n",
       "      <td>2</td>\n",
       "      <td>0</td>\n",
       "    </tr>\n",
       "    <tr>\n",
       "      <th>2021-07-01</th>\n",
       "      <td>0</td>\n",
       "      <td>0</td>\n",
       "      <td>0</td>\n",
       "      <td>0</td>\n",
       "      <td>0</td>\n",
       "    </tr>\n",
       "    <tr>\n",
       "      <th>2021-07-02</th>\n",
       "      <td>0</td>\n",
       "      <td>0</td>\n",
       "      <td>0</td>\n",
       "      <td>0</td>\n",
       "      <td>0</td>\n",
       "    </tr>\n",
       "  </tbody>\n",
       "</table>\n",
       "<p>348 rows × 5 columns</p>\n",
       "</div>"
      ],
      "text/plain": [
       "           P_Malaysia Lao_PDR Thailand Vietnam Myanmar\n",
       "date                                                  \n",
       "2020-07-01          0       0        0       0       0\n",
       "2020-07-02          0       0        0       0       0\n",
       "2020-07-04          0       0        0       0       0\n",
       "2020-07-05          0       0        0       0       0\n",
       "2020-07-06          0       0        0       0       0\n",
       "...               ...     ...      ...     ...     ...\n",
       "2021-06-28          0       0        0       0       0\n",
       "2021-06-29          0       0        0       0       0\n",
       "2021-06-30          0       0        0       2       0\n",
       "2021-07-01          0       0        0       0       0\n",
       "2021-07-02          0       0        0       0       0\n",
       "\n",
       "[348 rows x 5 columns]"
      ]
     },
     "metadata": {},
     "output_type": "display_data"
    }
   ],
   "source": [
    "df"
   ]
  }
 ],
 "metadata": {
  "interpreter": {
   "hash": "0bb4b9b1b0953d246fa263114367ef73d78897a5fec9308a482733529b7b4aac"
  },
  "kernelspec": {
   "display_name": "Python 3.7.11 ('work')",
   "language": "python",
   "name": "python3"
  },
  "language_info": {
   "codemirror_mode": {
    "name": "ipython",
    "version": 3
   },
   "file_extension": ".py",
   "mimetype": "text/x-python",
   "name": "python",
   "nbconvert_exporter": "python",
   "pygments_lexer": "ipython3",
   "version": "3.7.11"
  },
  "orig_nbformat": 4
 },
 "nbformat": 4,
 "nbformat_minor": 2
}
