{
 "cells": [
  {
   "cell_type": "code",
   "execution_count": 272,
   "metadata": {},
   "outputs": [],
   "source": [
    "from utils.base import *\n",
    "from utils.sarimax import sarimax_training, predict_target"
   ]
  },
  {
   "cell_type": "code",
   "execution_count": 324,
   "metadata": {},
   "outputs": [],
   "source": [
    "basepath = 'datasci_dataset_2022'\n",
    "province = ['BKK', 'Chiangmai', 'Khonkaen', 'Rayong', 'Saraburi', 'Surat'] # Chiangmai, Khonkaen, Saraburi\n",
    "idx_province = 4\n",
    "folderpath = os.path.join(basepath, province[idx_province])\n",
    "\n",
    "mode = 'train'\n",
    "train_data = pd.read_csv(os.path.join(folderpath, f\"{mode}\\\\{mode}ing.csv\")).rename({'Unnamed: 0': 'date_time'}, axis=1)\n",
    "train_data['date_time'] = pd.to_datetime(train_data['date_time'])\n",
    "train_data = train_data.set_index('date_time')\n",
    "train_data = train_data.reindex(pd.date_range(\"2017-07-01 00:00:00\", \"2020-06-30 23:00:00\",freq='6h'), fill_value=np.nan) # <= for Khonkaen and saraburi start at 2018\n",
    "\n",
    "mode = 'test'\n",
    "test_data = pd.read_csv(os.path.join(folderpath, f\"{mode}\\\\{mode}ing.csv\")).rename({'Unnamed: 0': 'date_time'}, axis=1)\n",
    "test_data['date_time'] = pd.to_datetime(test_data['date_time'])\n",
    "test_data = test_data.set_index('date_time')\n",
    "test_data = test_data.reindex(pd.date_range(\"2020-07-01 00:00:00\", \"2021-07-01 23:00:00\",freq='6h'), fill_value=np.nan)"
   ]
  },
  {
   "cell_type": "code",
   "execution_count": 325,
   "metadata": {},
   "outputs": [],
   "source": [
    "testPM = pd.read_csv(os.path.join(folderpath, f\"test\\\\{province[idx_province].lower()}_test.csv\")).rename({\"Unnamed: 0\": \"date_time\"}, axis=1)\n",
    "testPM['date_time'] = pd.to_datetime(testPM['date_time'])\n",
    "testPM = testPM.set_index('date_time')"
   ]
  },
  {
   "cell_type": "code",
   "execution_count": 326,
   "metadata": {},
   "outputs": [],
   "source": [
    "li = []\n",
    "best_order = (1, 0, 0) # best_order = (1, 0, 1)\n",
    "best_seasonal_order = (0, 1, 1, 12)#(1, 1, 0, 12) Try (1, 0, 1, 12)\n",
    "exog_columns = ['temp', 'wind speed', 'wind dir'] + ['Thailand'] # Hotspot + wind + temp\n",
    "target = 'PM2.5'\n",
    "\n",
    "result, results_exog = sarimax_training(best_order, best_seasonal_order, train_data, exog_columns, target)"
   ]
  },
  {
   "cell_type": "code",
   "execution_count": 327,
   "metadata": {},
   "outputs": [
    {
     "name": "stderr",
     "output_type": "stream",
     "text": [
      "100%|██████████| 1463/1463 [25:11<00:00,  1.03s/it]\n"
     ]
    }
   ],
   "source": [
    "li = []\n",
    "update_result, update_results_exog = result, results_exog\n",
    "for i in tqdm(range(len(test_data)-1)):\n",
    "  update_result = update_result.append(test_data['PM2.5'].iloc[i:i+1], exog=test_data[exog_columns].iloc[i:i+1])\n",
    "  for idx, exog in enumerate(exog_columns):\n",
    "    update_results_exog[idx] = update_results_exog[idx].append(test_data[exog].iloc[i:i+1])\n",
    "  \n",
    "  li.append(predict_target(update_result, update_results_exog, exog_columns, steps=12))"
   ]
  },
  {
   "cell_type": "code",
   "execution_count": 328,
   "metadata": {},
   "outputs": [],
   "source": [
    "df = pd.concat(li, keys=test_data.index)"
   ]
  },
  {
   "cell_type": "code",
   "execution_count": 329,
   "metadata": {},
   "outputs": [
    {
     "data": {
      "text/plain": [
       "2020-07-01 00:00:00  2020-07-01 06:00:00    13.389646\n",
       "                     2020-07-01 12:00:00    17.970650\n",
       "                     2020-07-01 18:00:00    22.888691\n",
       "                     2020-07-02 00:00:00    13.549758\n",
       "                     2020-07-02 06:00:00    20.697297\n",
       "                                              ...    \n",
       "2021-07-01 12:00:00  2021-07-03 12:00:00    16.788266\n",
       "                     2021-07-03 18:00:00    16.442560\n",
       "                     2021-07-04 00:00:00    16.989823\n",
       "                     2021-07-04 06:00:00    17.509482\n",
       "                     2021-07-04 12:00:00    17.160463\n",
       "Name: predicted_mean, Length: 17556, dtype: float64"
      ]
     },
     "execution_count": 329,
     "metadata": {},
     "output_type": "execute_result"
    }
   ],
   "source": [
    "df"
   ]
  },
  {
   "cell_type": "code",
   "execution_count": 334,
   "metadata": {},
   "outputs": [],
   "source": [
    "df.to_csv(f'{province[idx_province].lower()}_predict_test_best.csv')"
   ]
  },
  {
   "cell_type": "markdown",
   "metadata": {},
   "source": [
    "# Predict"
   ]
  },
  {
   "cell_type": "code",
   "execution_count": 330,
   "metadata": {},
   "outputs": [
    {
     "name": "stderr",
     "output_type": "stream",
     "text": [
      "17556it [00:01, 13346.76it/s]\n"
     ]
    }
   ],
   "source": [
    "gt = []\n",
    "for data in tqdm(df.iteritems()):\n",
    "  try:\n",
    "    gt.append(testPM.loc[data[0][1]].values[0])\n",
    "  except:\n",
    "    gt.append(np.NaN)\n",
    "gt = np.array(gt)"
   ]
  },
  {
   "cell_type": "code",
   "execution_count": 331,
   "metadata": {},
   "outputs": [
    {
     "data": {
      "text/plain": [
       "array([13.38964611, 17.97064995, 22.88869099, ..., 16.98982324,\n",
       "       17.50948175, 17.16046304])"
      ]
     },
     "execution_count": 331,
     "metadata": {},
     "output_type": "execute_result"
    }
   ],
   "source": [
    "df.values"
   ]
  },
  {
   "cell_type": "code",
   "execution_count": 332,
   "metadata": {},
   "outputs": [],
   "source": [
    "mask = np.isnan(gt)\n",
    "predicted = df.values[~mask]\n",
    "gt_target = gt[~mask]"
   ]
  },
  {
   "cell_type": "code",
   "execution_count": 333,
   "metadata": {},
   "outputs": [
    {
     "name": "stdout",
     "output_type": "stream",
     "text": [
      "Test on SARIMAX with RMSE: 11.307005\n"
     ]
    }
   ],
   "source": [
    "mse = mean_squared_error(gt_target, predicted)\n",
    "rmse = math.sqrt(mse)\n",
    "print('Test on SARIMAX with RMSE: %f' % (rmse, ))"
   ]
  },
  {
   "cell_type": "code",
   "execution_count": null,
   "metadata": {},
   "outputs": [],
   "source": []
  }
 ],
 "metadata": {
  "interpreter": {
   "hash": "0bb4b9b1b0953d246fa263114367ef73d78897a5fec9308a482733529b7b4aac"
  },
  "kernelspec": {
   "display_name": "Python 3.7.11 ('work')",
   "language": "python",
   "name": "python3"
  },
  "language_info": {
   "codemirror_mode": {
    "name": "ipython",
    "version": 3
   },
   "file_extension": ".py",
   "mimetype": "text/x-python",
   "name": "python",
   "nbconvert_exporter": "python",
   "pygments_lexer": "ipython3",
   "version": "3.7.11"
  },
  "orig_nbformat": 4
 },
 "nbformat": 4,
 "nbformat_minor": 2
}
